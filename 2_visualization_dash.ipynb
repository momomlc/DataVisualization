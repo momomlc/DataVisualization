{
 "cells": [
  {
   "cell_type": "markdown",
   "metadata": {},
   "source": [
    "## Import libraries "
   ]
  },
  {
   "cell_type": "code",
   "execution_count": null,
   "metadata": {},
   "outputs": [],
   "source": [
    "import pandas as pd\n",
    "import numpy as np\n",
    "import missingno as msno\n",
    "import dash \n",
    "import dash_core_components as dcc\n",
    "import dash_html_components as html\n",
    "from dash.dependencies import Input, Output, State\n",
    "import plotly.graph_objs as go\n",
    "import plotly.offline as pyo\n",
    "import dash_bootstrap_components as dbc\n",
    "import re\n",
    "import json"
   ]
  },
  {
   "cell_type": "markdown",
   "metadata": {},
   "source": [
    "## Read data "
   ]
  },
  {
   "cell_type": "code",
   "execution_count": null,
   "metadata": {},
   "outputs": [],
   "source": [
    "df_total = pd.read_csv('merged_data.csv')"
   ]
  },
  {
   "cell_type": "code",
   "execution_count": null,
   "metadata": {},
   "outputs": [],
   "source": [
    "# # # dataframe that only contains files with persons information\n",
    "df = df_total[df_total['Id_person'].notna()]"
   ]
  },
  {
   "cell_type": "markdown",
   "metadata": {},
   "source": [
    "# Data cleaning and statistical analysis"
   ]
  },
  {
   "cell_type": "code",
   "execution_count": null,
   "metadata": {},
   "outputs": [],
   "source": [
    "# # # Check missing values\n",
    "msno.matrix(df)"
   ]
  },
  {
   "cell_type": "markdown",
   "metadata": {},
   "source": [
    "### Data pre-processing for punishment "
   ]
  },
  {
   "cell_type": "markdown",
   "metadata": {},
   "source": [
    "#### Overview of punishment "
   ]
  },
  {
   "cell_type": "code",
   "execution_count": null,
   "metadata": {},
   "outputs": [],
   "source": [
    "# # # Check missing values\n",
    "df['punishment(fand)/Punishmandts/Pandalties'].notna().value_counts()"
   ]
  },
  {
   "cell_type": "code",
   "execution_count": null,
   "metadata": {},
   "outputs": [],
   "source": [
    "x = 413/2122\n",
    "x"
   ]
  },
  {
   "cell_type": "code",
   "execution_count": null,
   "metadata": {},
   "outputs": [],
   "source": [
    "np.sort(df['punishment(fand)/Punishmandts/Pandalties'].dropna().unique())"
   ]
  },
  {
   "cell_type": "code",
   "execution_count": null,
   "metadata": {},
   "outputs": [],
   "source": [
    "# # # key words for each main category of punishment:\n",
    "key_words = {'dukats': 'fine', \n",
    "             'fine':'fine', \n",
    "             'disciplinary': 'prison', \n",
    "             'God':'ask forgiveness from God and the Justice', \n",
    "             'forgiving':'ask forgiveness from God and the Justice',\n",
    "             'ban':'banishment',\n",
    "             'absent basket':'branding (with a hot iron mark)',\n",
    "             '; absent':'branding (with a hot iron mark)',\n",
    "             'absent;':'branding (with a hot iron mark)',\n",
    "             'absent,':'branding (with a hot iron mark)', \n",
    "             'brand':'branding (with a hot iron mark)',\n",
    "             'floggging':'floggging',\n",
    "             'acquit':'acquittal',\n",
    "             'out of':'out of the city',\n",
    "             'office': 'expiration of office', \n",
    "             'cost':'costs',\n",
    "             'confiscation of property':'confiscation of property',\n",
    "             'teased':'pillory','pillory':'pillory',\n",
    "             'tooth':'pillory',\n",
    "             'Lean Soup':'prison',\n",
    "             'city running':'city running',\n",
    "             'composible':'diverse',\n",
    "             'conditional':'conditional release',\n",
    "             'confine':'confinement',\n",
    "             'death':'death penalty',\n",
    "             'straightened':'death penalty',\n",
    "             'cut off hand':'cut off hand',\n",
    "             'baked':'baked','hanging':'hanging',\n",
    "             'decapitation':'decapitation',\n",
    "             'discharged':'discharged',\n",
    "             'dismiss':'dismissed',\n",
    "             'drag':'dragged',\n",
    "             'display':'on display',\n",
    "             'exhibit':'on display',\n",
    "             'show':'on display',\n",
    "             'pilgrimage':'pilgrimage',\n",
    "             'prison':'prison',\n",
    "             'water and bread':'prison',\n",
    "             'remand':'remand',\n",
    "             'spin house':'prison',\n",
    "             'Gewandhuis':'around the Gewandhuis'\n",
    "            }"
   ]
  },
  {
   "cell_type": "code",
   "execution_count": null,
   "metadata": {},
   "outputs": [],
   "source": [
    "punish_categories = ['fine', \n",
    "       'acquittal', 'death penalty', 'banishment',\n",
    "       'branding (with a hot iron mark)', 'on display', 'costs',\n",
    "       'decapitation', 'prison', 'dismissed', 'discharged', 'hanging',\n",
    "       'floggging', 'baked',  'dragged', 'pillory',\n",
    "       'out of the city', 'expiration of office', 'confinement', 'remand',\n",
    "       'confiscation of property', 'cut off hand', 'diverse',\n",
    "       'around the Gewandhuis', 'ask forgiveness from God and the Justice',\n",
    "       'city running', 'conditional release', 'pilgrimage']"
   ]
  },
  {
   "cell_type": "code",
   "execution_count": null,
   "metadata": {},
   "outputs": [],
   "source": [
    "# # # Create a new dataframe, named \"df1\":\n",
    "df1 = df.copy()\n",
    "for i in punish_categories:\n",
    "    df1[i] = 0\n",
    "\n",
    "for i in range(0, len(df1)):\n",
    "    punishment = str(df1.loc[int(i), 'punishment(fand)/Punishmandts/Pandalties'])\n",
    "    if punishment == 'nan':\n",
    "        for k in punish_categories:\n",
    "            df1.loc[i,k] = float(\"nan\")\n",
    "        continue\n",
    "    for j in key_words.keys():\n",
    "        if j in punishment:\n",
    "            df1.loc[i, key_words[j]] = 1"
   ]
  },
  {
   "cell_type": "code",
   "execution_count": null,
   "metadata": {},
   "outputs": [],
   "source": [
    "# # # count each catetory\n",
    "df1[punish_categories].sum().sort_values(ascending=False)"
   ]
  },
  {
   "cell_type": "markdown",
   "metadata": {},
   "source": [
    "#### Fine "
   ]
  },
  {
   "cell_type": "code",
   "execution_count": null,
   "metadata": {},
   "outputs": [],
   "source": [
    "fine = df1[df1['fine'] == 1].reset_index()[['Id_person','punishment(fand)/Punishmandts/Pandalties']]\n",
    "fine['money'] = fine['punishment(fand)/Punishmandts/Pandalties'].apply(lambda x: re.findall(r'fine\\s-\\s(\\d+\\s..)', x))\n",
    "\n",
    "for i in range(0,len(fine)):\n",
    "    try:\n",
    "        fine.loc[i,'amount'] = fine.loc[i,'money'][0]\n",
    "    except:\n",
    "        print(i)\n",
    "        print(fine.loc[i,'punishment(fand)/Punishmandts/Pandalties'])\n",
    "fine.loc[36,'amount'] = '200 µl'"
   ]
  },
  {
   "cell_type": "markdown",
   "metadata": {},
   "source": [
    "### Data pre-processing for Crimes "
   ]
  },
  {
   "cell_type": "code",
   "execution_count": null,
   "metadata": {},
   "outputs": [],
   "source": [
    "# # # key words for each main category of Crime:\n",
    "key_words_crimes = {'killing': 'Killing',\n",
    "      'burglary': 'Burglary',\n",
    "      'threat' : 'Threat',\n",
    "      'maltreatment' : 'Ill-treatment',\n",
    "      'criminal' : 'Assault',\n",
    "      'extortion' : 'Extortion',\n",
    "      'outlawry' : 'Outlawry', #not obeying the ban, sentence of outlawry\n",
    "      'begging' : 'Begging',\n",
    "      'fraud' : 'Fraud',\n",
    "      'forgery' : 'Fraud', \n",
    "      'forged': 'Fraud',\n",
    "      'theft': 'Theft',\n",
    "      'violence' : 'Violence', # 3, (street) vandalism and violence\n",
    "      'trading ' : 'Trading with enemy',\n",
    "      'enemy' : 'Trading with enemy',\n",
    "      'prostitution' : 'Prostitution', #2\n",
    "      'evasion' : 'Evasion', # evasion impost, evasion impost on beer, tax evasion, tax-dodging\n",
    "      'escape' : 'Escape', # letting escape of a prisoner, illegal freeing pounded sheep, \n",
    "      #'freeing' : 'Escape', \n",
    "       'kidnapping' : 'Kidnapping',\n",
    "       'cheating' : 'Cheating', # cheating (cardplay, dices),swindle, cheating (in case of changing money),swindle, cheating\n",
    "       'violating' : 'Violating',\n",
    "       'looting' : 'Looting', #??? ip_crime: 14, 55\n",
    "        'destruction' : 'Destruction',\n",
    "        'destroying' : 'Destruction',\n",
    "        'digging' : 'Destruction',\n",
    "        'forbidden' : 'Forbidden',\n",
    "        'unallowd' : 'Forbidden',\n",
    "        #'possession' : 'Forbidden',\n",
    "        #'embezzle' : 'Embezzle',\n",
    "        'resistance' : 'Resistance',\n",
    "        'refusing' : 'Refusing', #4: niet reinigen Blok,refusing to billet troops in a house,refusing to clean the public street,\n",
    "        #refusing to make a(n incriminating / implicating), \n",
    "        'suicide' : 'Suicide',\n",
    "        'adultery': 'Adultery',\n",
    "        'bigamy' : 'Bigamy',\n",
    "        'robbery': 'Robbery',\n",
    "        'pocketing' : 'Robbery',\n",
    "         'barrage' : 'Barrage',#2\n",
    "         'disturb': 'Disturb public order',\n",
    "         'revolt' : 'Disturb public order',\n",
    "         'mob' : 'Disturb public order',\n",
    "         \"one's\" : 'Disturb public order',\n",
    "         'hooliganism' : 'Robbery',\n",
    "         'offending' : 'Offending', \n",
    "         'illegal' : 'Illegal'}"
   ]
  },
  {
   "cell_type": "code",
   "execution_count": null,
   "metadata": {},
   "outputs": [],
   "source": [
    "crime_categories = ['Illegal', 'Offending', 'Disturb public order', 'Robbery','Barrage','Bigamy',\n",
    "                    'Adultery', 'Suicide', 'Refusing', 'Resistance', 'Forbidden', \n",
    "                    'Destruction', 'Looting','Violating','Cheating', 'Kidnapping', 'Escape',\n",
    "                    'Evasion', 'Prostitution', 'Trading with enemy', 'Violence', 'Theft', 'Fraud',\n",
    "                     'Begging', 'Outlawry', 'Extortion', 'Assault', 'Ill-treatment', 'Threat', 'Burglary','Killing']#'Embezzle'"
   ]
  },
  {
   "cell_type": "code",
   "execution_count": null,
   "metadata": {},
   "outputs": [],
   "source": [
    "for i in crime_categories:\n",
    "    df1[i] = 0\n",
    "for i in range(0, len(df1)):\n",
    "    crime = str(df1.loc[int(i), 'Misdrijven/Crimes'])\n",
    "    if crime == 'nan':\n",
    "        for k in crime_categories:\n",
    "            df1.loc[i,k] = float(\"nan\")\n",
    "        continue\n",
    "    for j in key_words_crimes.keys():\n",
    "        if j in crime:\n",
    "            df1.loc[i, key_words_crimes[j]] = 1\n",
    "#         else:\n",
    "#             df1.loc[i, key_words_crimes[j]] = 0"
   ]
  },
  {
   "cell_type": "code",
   "execution_count": null,
   "metadata": {},
   "outputs": [],
   "source": [
    "# # # count each catetory\n",
    "df1[crime_categories].sum().sort_values(ascending=False)"
   ]
  },
  {
   "cell_type": "code",
   "execution_count": null,
   "metadata": {},
   "outputs": [],
   "source": [
    "df1.columns"
   ]
  },
  {
   "cell_type": "code",
   "execution_count": null,
   "metadata": {},
   "outputs": [],
   "source": [
    "df1['torture/Tortured'] = df1['torture/Tortured'].fillna('untortured')"
   ]
  },
  {
   "cell_type": "code",
   "execution_count": null,
   "metadata": {},
   "outputs": [],
   "source": []
  },
  {
   "cell_type": "code",
   "execution_count": null,
   "metadata": {},
   "outputs": [],
   "source": []
  },
  {
   "cell_type": "code",
   "execution_count": null,
   "metadata": {},
   "outputs": [],
   "source": []
  },
  {
   "cell_type": "markdown",
   "metadata": {},
   "source": [
    "## Data visualization "
   ]
  },
  {
   "cell_type": "markdown",
   "metadata": {},
   "source": [
    "### Dashboard"
   ]
  },
  {
   "cell_type": "code",
   "execution_count": null,
   "metadata": {},
   "outputs": [],
   "source": [
    "# # # # graphs\n",
    "\n",
    "# # # The first graph\n",
    "# # The overview of punishment : bar chart\n",
    "\n",
    "# Content for the first graph\n",
    "def fig1():\n",
    "    punishment = df1[punish_categories].sum().sort_values(ascending=True).apply(lambda x: int(x))\n",
    "    data = [go.Bar(\n",
    "           y = punishment.index,\n",
    "           x = punishment.values,\n",
    "           orientation = 'h',\n",
    "            )]\n",
    "    layout = go.Layout(title = 'Bar chart of punishment',\n",
    "#                        yaxis = {'title': 'punishment'},\n",
    "                       xaxis = {'title': 'counts', \"tickformat\": \",d\"},\n",
    "                       height=800)\n",
    "    return {'data': data, 'layout': layout}\n",
    "\n",
    "first_graph = dbc.Row([\n",
    "        dbc.Col(\n",
    "            dcc.Graph( id='graph_1',\n",
    "                     figure=fig1()), \n",
    "           )\n",
    "    ])\n",
    "\n",
    "\n",
    "# # # The second graph\n",
    "# # What kinds of crimes may lead to the fine punishment?\n",
    "second_graph = dbc.Row([\n",
    "        dbc.Col(\n",
    "            dcc.Graph( id='graph_2',), \n",
    "           )\n",
    "    ])\n",
    "\n",
    "\n",
    "\n",
    "\n",
    "# # # The third graph\n",
    "# # The distribution of the amounts of money in fine\n",
    "def fig3():\n",
    "    data = [go.Bar(\n",
    "            x = fine['amount'].value_counts().sort_values(ascending=False).index,\n",
    "            y = fine['amount'].value_counts().sort_values(ascending=False).values\n",
    "    )]\n",
    "    layout = go.Layout(title = 'Bar chart of fine',\n",
    "                       xaxis = {'title': 'fine'},\n",
    "                       yaxis = {'title': 'counts', \"tickformat\": \",d\"})\n",
    "    return {'data': data, 'layout': layout}\n",
    "\n",
    "third_graph = dbc.Row([\n",
    "        dbc.Col(\n",
    "            dcc.Graph( id='graph_3',\n",
    "                     figure=fig3()), \n",
    "           )\n",
    "    ])\n",
    "\n",
    "\n",
    "\n",
    "# # # The fourth graph\n",
    "# # Which crimes may lead to torture?\n",
    "def fig4():\n",
    "    crimes = df1.groupby('torture/Tortured').sum()[crime_categories].T\n",
    "    crimes['total'] = crimes['Subject to torture']+crimes['untortured']\n",
    "    crimes = crimes.sort_values('total', ascending = False)\n",
    "    crimes = crimes.reset_index()\n",
    "    data = [go.Bar(\n",
    "           x = crimes[\"index\"],\n",
    "           y = crimes[\"untortured\"],\n",
    "           name = 'Untortured',\n",
    "           offsetgroup=0,\n",
    "            ),\n",
    "        go.Bar(\n",
    "           x = crimes[\"index\"],\n",
    "           y = crimes[\"Subject to torture\"],\n",
    "           name = 'Tortured',\n",
    "           offsetgroup=0,\n",
    "           base = crimes[\"untortured\"],\n",
    "            ),\n",
    "          \n",
    "           ]\n",
    "    layout = go.Layout(title = 'Bar chart of crimes and whether tortured',\n",
    "                       xaxis = {'title': 'crimes'},\n",
    "                       yaxis = {'title': 'counts', \"tickformat\": \",d\"})\n",
    "    return {'data': data, 'layout': layout}\n",
    "\n",
    "fourth_graph = dbc.Row([\n",
    "        dbc.Col(\n",
    "            dcc.Graph( id='graph_4',\n",
    "                     figure=fig4()), \n",
    "           )\n",
    "    ])\n",
    "\n",
    "\n",
    "\n",
    "\n",
    "# # # # dashboard\n",
    "# # # Create the dashboard\n",
    "app = dash.Dash(external_stylesheets=[dbc.themes.BOOTSTRAP])\n",
    "app.layout = html.Div([dcc.Location(id=\"url\"), \n",
    "                      html.Div(\n",
    "                            [\n",
    "                              dbc.Row([first_graph,\n",
    "                               second_graph,]),\n",
    "                               third_graph,\n",
    "                               fourth_graph,\n",
    "                            ],\n",
    "\n",
    "                            )\n",
    "                      ])\n",
    "\n",
    "\n",
    "# # # # callback\n",
    "# # # for the third graph\n",
    "\n",
    "\n",
    "@app.callback(Output('graph_2', 'figure'),\n",
    "             [Input('graph_1', 'clickData')])\n",
    "def update_second_graph(clickData):\n",
    "    feature = clickData[\"points\"][0][\"label\"]\n",
    "    data_df = df1[df1[feature] == 1][crime_categories].sum().sort_values(ascending=True).apply(lambda x: int(x))\n",
    "    data = [go.Bar(\n",
    "            y = data_df.index,\n",
    "            x = data_df.values,\n",
    "            orientation = 'h',\n",
    "    )]\n",
    "    layout = go.Layout(title = 'What kinds of crimes lead to {}'.format(feature),\n",
    "#                        yaxis = {'title': 'crimes'},\n",
    "                       xaxis = {'title': 'counts', \"tickformat\": \",d\"},\n",
    "                       height=800)\n",
    "    return {'data': data, 'layout': layout}\n",
    "                       \n",
    "\n",
    "\n",
    "if __name__ == '__main__':\n",
    "    app.run_server(port='8000')\n"
   ]
  },
  {
   "cell_type": "code",
   "execution_count": null,
   "metadata": {},
   "outputs": [],
   "source": []
  }
 ],
 "metadata": {
  "kernelspec": {
   "display_name": "Python 3",
   "language": "python",
   "name": "python3"
  },
  "language_info": {
   "codemirror_mode": {
    "name": "ipython",
    "version": 3
   },
   "file_extension": ".py",
   "mimetype": "text/x-python",
   "name": "python",
   "nbconvert_exporter": "python",
   "pygments_lexer": "ipython3",
   "version": "3.8.3"
  }
 },
 "nbformat": 4,
 "nbformat_minor": 4
}
